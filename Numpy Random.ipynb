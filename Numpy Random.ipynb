{
 "cells": [
  {
   "cell_type": "markdown",
   "metadata": {},
   "source": [
    "# About the Numpy Random Library\n",
    "Numpy is a numerical package for Python which is fundamental for scientific computing. This library contains a multidimensional array object, matrices, masked arrays, an assortment of routines for fast operations on arrays and much more.\n",
    "\n",
    "It has a subpackage called random, which will be the focus of this notebook.\n",
    "\n",
    "Documentation for numpy.random can be found [here](https://docs.scipy.org/doc/numpy-1.13.0/reference/routines.random.html).\n",
    "***\n",
    "## Contents\n",
    "#### - Simple Random Data\n",
    "[rand](#rand)<br>\n",
    "[randn](#randn)<br>\n",
    "[randint](#randint)<br>\n",
    "[random](#random)<br>\n",
    "[choice](#choice)<br>\n",
    "#### - Permutations\n",
    "[shuffle](#shuffle)<br>\n",
    "[permutation](#permutation)<br>\n",
    "#### - Distributions\n",
    "[binomial](#binomial)<br>\n",
    "[normal](#normal)<br>\n",
    "[uniform](#uniform)<br>\n",
    "#### - Random Generator\n",
    "[RandomState](#RandomState)<br>\n",
    "[seed](#seed)<br>\n",
    "***"
   ]
  },
  {
   "cell_type": "markdown",
   "metadata": {},
   "source": [
    "Before we start using any numpy commands, we must first import the package."
   ]
  },
  {
   "cell_type": "code",
   "execution_count": 1,
   "metadata": {},
   "outputs": [],
   "source": [
    "import numpy as np"
   ]
  },
  {
   "cell_type": "markdown",
   "metadata": {},
   "source": [
    "## Simple Random Data\n",
    "These are the commands that are used to generate simple random data. These will probably be used more than the other types of commands."
   ]
  },
  {
   "cell_type": "markdown",
   "metadata": {},
   "source": [
    "### rand\n",
    "Creates an array of the given shape and populates it with random samples from the \"uniform\" distribution over [0, 1]."
   ]
  },
  {
   "cell_type": "code",
   "execution_count": 2,
   "metadata": {},
   "outputs": [
    {
     "data": {
      "text/plain": [
       "array([[0.34464483, 0.78359107, 0.90888752],\n",
       "       [0.94525932, 0.78077283, 0.2848269 ]])"
      ]
     },
     "execution_count": 2,
     "metadata": {},
     "output_type": "execute_result"
    }
   ],
   "source": [
    "x = np.random.rand(2, 3)\n",
    "x"
   ]
  },
  {
   "cell_type": "markdown",
   "metadata": {},
   "source": [
    "### randn\n",
    "If parameters are specified, randn returns a sample (or samples) from the “standard normal” distribution over [0, 1]."
   ]
  },
  {
   "cell_type": "code",
   "execution_count": 3,
   "metadata": {},
   "outputs": [
    {
     "data": {
      "text/plain": [
       "array([[-0.81301154,  2.08375911,  0.28829555],\n",
       "       [ 1.06895297, -1.29166963,  1.46615215]])"
      ]
     },
     "execution_count": 3,
     "metadata": {},
     "output_type": "execute_result"
    }
   ],
   "source": [
    "x = np.random.randn(2, 3)\n",
    "x"
   ]
  },
  {
   "cell_type": "markdown",
   "metadata": {},
   "source": [
    "If no argument is provided then it returns a single float randomly sampled from the distribution."
   ]
  },
  {
   "cell_type": "code",
   "execution_count": 4,
   "metadata": {},
   "outputs": [
    {
     "data": {
      "text/plain": [
       "-1.134999188247481"
      ]
     },
     "execution_count": 4,
     "metadata": {},
     "output_type": "execute_result"
    }
   ],
   "source": [
    "x = np.random.randn()\n",
    "x"
   ]
  },
  {
   "cell_type": "markdown",
   "metadata": {},
   "source": [
    "### randint\n",
    "Return random integers from low (inclusive) to high (exclusive).\n",
    "\n",
    "Return random integers from the “discrete uniform” distribution of the specified dtype in the “half-open” interval [low, high).<br> \n",
    "randint has a number of optional parameters; **high**, **size** and **dtype**. <br>\n",
    "If **high** is None (the default), then results are from [0, low)."
   ]
  },
  {
   "cell_type": "code",
   "execution_count": 5,
   "metadata": {},
   "outputs": [
    {
     "data": {
      "text/plain": [
       "1"
      ]
     },
     "execution_count": 5,
     "metadata": {},
     "output_type": "execute_result"
    }
   ],
   "source": [
    "x = np.random.randint(10)\n",
    "x"
   ]
  },
  {
   "cell_type": "markdown",
   "metadata": {},
   "source": [
    "**size** defines the shape of the output, the default is none which means only one value will be returned. <br>\n",
    "**dtype** defines the data type of the result, e.g. int, int64, etc."
   ]
  },
  {
   "cell_type": "code",
   "execution_count": 6,
   "metadata": {},
   "outputs": [
    {
     "data": {
      "text/plain": [
       "array([ 8, 10,  5, 11,  4,  6, 13,  3], dtype=int64)"
      ]
     },
     "execution_count": 6,
     "metadata": {},
     "output_type": "execute_result"
    }
   ],
   "source": [
    "x = np.random.randint(3, 15, size = 8, dtype=\"int64\")\n",
    "x"
   ]
  },
  {
   "cell_type": "markdown",
   "metadata": {},
   "source": [
    "### random\n",
    "Return random floats drawn from the “continuous uniform” distribution over  the half-open interval [0.0, 1.0). <br>Returns a float or an array of floats."
   ]
  },
  {
   "cell_type": "code",
   "execution_count": 7,
   "metadata": {},
   "outputs": [
    {
     "data": {
      "text/plain": [
       "array([0.60419078, 0.16215556, 0.35955429])"
      ]
     },
     "execution_count": 7,
     "metadata": {},
     "output_type": "execute_result"
    }
   ],
   "source": [
    "np.random.random(3)"
   ]
  },
  {
   "cell_type": "markdown",
   "metadata": {},
   "source": [
    "### choice\n",
    "Generates a random sample from a given 1-D array. \n",
    "Its parameters are **a**, **size**, **replace** and **p**.\n",
    "\n",
    "**size** defines the output shape. <br>\n",
    "**a** accepts an int or an ndarray. If **a** is an int, choice draws it's results from 0 (inclusive) to a (exclusive). <br>"
   ]
  },
  {
   "cell_type": "code",
   "execution_count": 8,
   "metadata": {},
   "outputs": [
    {
     "data": {
      "text/plain": [
       "array([ 6,  7,  6, 18,  8])"
      ]
     },
     "execution_count": 8,
     "metadata": {},
     "output_type": "execute_result"
    }
   ],
   "source": [
    "np.random.choice(20, 5)"
   ]
  },
  {
   "cell_type": "markdown",
   "metadata": {},
   "source": [
    "If **a** is an ndarray, choice draws its results from the elements in **a**."
   ]
  },
  {
   "cell_type": "code",
   "execution_count": 9,
   "metadata": {},
   "outputs": [
    {
     "data": {
      "text/plain": [
       "array([20, 20, 20,  3, 27])"
      ]
     },
     "execution_count": 9,
     "metadata": {},
     "output_type": "execute_result"
    }
   ],
   "source": [
    "np.random.choice((3,9,15,20,27), 5)"
   ]
  },
  {
   "cell_type": "markdown",
   "metadata": {},
   "source": [
    "**replace** defines whether the sample data can repeat or not. So if replace=False, then each value will be unique."
   ]
  },
  {
   "cell_type": "code",
   "execution_count": 10,
   "metadata": {},
   "outputs": [
    {
     "data": {
      "text/plain": [
       "array([27, 15, 20,  9,  3])"
      ]
     },
     "execution_count": 10,
     "metadata": {},
     "output_type": "execute_result"
    }
   ],
   "source": [
    "np.random.choice((3,9,15,20,27), 5, replace=False)"
   ]
  },
  {
   "cell_type": "markdown",
   "metadata": {},
   "source": [
    "**p** only accepts a 1-D array. It defines the probabilities associated with each entry in **a**. If undefined it assumes a uniform distribution over all entries in **a**."
   ]
  },
  {
   "cell_type": "code",
   "execution_count": 11,
   "metadata": {},
   "outputs": [
    {
     "data": {
      "text/plain": [
       "array([15, 20, 27, 20, 27])"
      ]
     },
     "execution_count": 11,
     "metadata": {},
     "output_type": "execute_result"
    }
   ],
   "source": [
    "np.random.choice((3,9,15,20,27), 5, p=[0.2, 0, 0.1, 0.2, 0.5])"
   ]
  },
  {
   "cell_type": "markdown",
   "metadata": {},
   "source": [
    "## Permutations\n",
    "Permutating is the arranging or rearranging of members of a set into some sequence or order. "
   ]
  },
  {
   "cell_type": "markdown",
   "metadata": {},
   "source": [
    "### shuffle\n",
    "Modify a sequence in-place by shuffling its contents."
   ]
  },
  {
   "cell_type": "code",
   "execution_count": 12,
   "metadata": {},
   "outputs": [
    {
     "data": {
      "text/plain": [
       "[4, 0, 2, 3, 1]"
      ]
     },
     "execution_count": 12,
     "metadata": {},
     "output_type": "execute_result"
    }
   ],
   "source": [
    "x = [0, 1, 2, 3, 4]\n",
    "np.random.shuffle(x)\n",
    "x"
   ]
  },
  {
   "cell_type": "markdown",
   "metadata": {},
   "source": [
    "This function only shuffles the array along the first axis of a multi-dimensional array. The order of sub-arrays is changed but their contents remains the same."
   ]
  },
  {
   "cell_type": "code",
   "execution_count": 13,
   "metadata": {},
   "outputs": [
    {
     "data": {
      "text/plain": [
       "array([[ 0,  1,  2,  3],\n",
       "       [ 4,  5,  6,  7],\n",
       "       [ 8,  9, 10, 11],\n",
       "       [12, 13, 14, 15]])"
      ]
     },
     "execution_count": 13,
     "metadata": {},
     "output_type": "execute_result"
    }
   ],
   "source": [
    "x = np.arange(16).reshape((4, 4))\n",
    "x"
   ]
  },
  {
   "cell_type": "code",
   "execution_count": 14,
   "metadata": {},
   "outputs": [
    {
     "data": {
      "text/plain": [
       "array([[ 4,  5,  6,  7],\n",
       "       [ 8,  9, 10, 11],\n",
       "       [12, 13, 14, 15],\n",
       "       [ 0,  1,  2,  3]])"
      ]
     },
     "execution_count": 14,
     "metadata": {},
     "output_type": "execute_result"
    }
   ],
   "source": [
    "np.random.shuffle(x)\n",
    "x"
   ]
  },
  {
   "cell_type": "markdown",
   "metadata": {},
   "source": [
    "### permutation\n",
    "Randomly permute a sequence, or return a permuted range.\n",
    "\n",
    "This function has one parameter, **x**. If x is a multi-dimensional array, only the first index is shuffled"
   ]
  },
  {
   "cell_type": "code",
   "execution_count": 15,
   "metadata": {},
   "outputs": [
    {
     "data": {
      "text/plain": [
       "array([2, 5, 4, 1, 3])"
      ]
     },
     "execution_count": 15,
     "metadata": {},
     "output_type": "execute_result"
    }
   ],
   "source": [
    "np.random.permutation([1, 2, 3, 4, 5])"
   ]
  },
  {
   "cell_type": "markdown",
   "metadata": {},
   "source": [
    "Below is a 2D array of numbers between 0 and 19 arranged in order:"
   ]
  },
  {
   "cell_type": "code",
   "execution_count": 16,
   "metadata": {},
   "outputs": [
    {
     "data": {
      "text/plain": [
       "array([[ 0,  1,  2,  3,  4],\n",
       "       [ 5,  6,  7,  8,  9],\n",
       "       [10, 11, 12, 13, 14],\n",
       "       [15, 16, 17, 18, 19]])"
      ]
     },
     "execution_count": 16,
     "metadata": {},
     "output_type": "execute_result"
    }
   ],
   "source": [
    "x = np.arange(20).reshape((4, 5))\n",
    "x"
   ]
  },
  {
   "cell_type": "markdown",
   "metadata": {},
   "source": [
    "And here is what happens when the permutation command is used on this 2D array:"
   ]
  },
  {
   "cell_type": "code",
   "execution_count": 17,
   "metadata": {},
   "outputs": [
    {
     "data": {
      "text/plain": [
       "array([[ 0,  1,  2,  3,  4],\n",
       "       [ 5,  6,  7,  8,  9],\n",
       "       [10, 11, 12, 13, 14],\n",
       "       [15, 16, 17, 18, 19]])"
      ]
     },
     "execution_count": 17,
     "metadata": {},
     "output_type": "execute_result"
    }
   ],
   "source": [
    "np.random.permutation(x)"
   ]
  },
  {
   "cell_type": "markdown",
   "metadata": {},
   "source": [
    "## Distributions\n",
    "Distribution functions are used to generate random values drawn from different distribution types. \n",
    "\n",
    "In order to display what these functions do on a plot, we need to import matplotlib. More can be read on matplotlib [here](https://matplotlib.org/)."
   ]
  },
  {
   "cell_type": "code",
   "execution_count": 18,
   "metadata": {},
   "outputs": [],
   "source": [
    "import matplotlib.pyplot as pl"
   ]
  },
  {
   "cell_type": "markdown",
   "metadata": {},
   "source": [
    "### binomial\n",
    "Draw samples from a binomial distribution. \n",
    "\n",
    "**Parameters: (n, p, size)**\n",
    "\n",
    "Samples are drawn from a binomial distribution with specified parameters, n trials and p probability of success where n is an integer >= 0 and p is in the interval [0,1] (n may be input as a float, but it is truncated to an integer in use).\n",
    "\n",
    "Binomial distibutions is used when there are 2 possible outcomes. An example would be flipping a coin and getting a result of either heads or tails."
   ]
  },
  {
   "cell_type": "code",
   "execution_count": 19,
   "metadata": {},
   "outputs": [],
   "source": [
    "x = np.random.binomial(100, 0.5, 10000) # 10,000 coin flips with a probabilty of 0.5 for getting heads or tails"
   ]
  },
  {
   "cell_type": "code",
   "execution_count": 20,
   "metadata": {},
   "outputs": [
    {
     "data": {
      "image/png": "[encoded data removed]",
      "text/plain": [
       "<Figure size 432x288 with 1 Axes>"
      ]
     },
     "metadata": {},
     "output_type": "display_data"
    }
   ],
   "source": [
    "pl.ylabel(\"Frequency\")\n",
    "pl.xlabel(\"Values\")\n",
    "pl.hist(x)\n",
    "pl.show()"
   ]
  },
  {
   "cell_type": "markdown",
   "metadata": {},
   "source": [
    "### normal\n",
    "Draw random samples from a normal distribution.\n",
    "\n",
    "**Parameters: (mean, standard deviation, size)**\n",
    "\n",
    "The normal distribution, sometimes called the bell curve, is a very common naturally occurring distribution. It can be seen in results of tests, where the average of students get a C while fewer students would get a B or D. An even smaller percentage of students would get an F or A."
   ]
  },
  {
   "cell_type": "code",
   "execution_count": 21,
   "metadata": {},
   "outputs": [
    {
     "data": {
      "image/png": "[encoded data removed]",
      "text/plain": [
       "<Figure size 432x288 with 1 Axes>"
      ]
     },
     "metadata": {},
     "output_type": "display_data"
    }
   ],
   "source": [
    "x = np.random.normal(60, 5, 1000)\n",
    "pl.ylabel(\"Frequency\")\n",
    "pl.xlabel(\"Results\")\n",
    "pl.hist(x)\n",
    "pl.show()"
   ]
  },
  {
   "cell_type": "markdown",
   "metadata": {},
   "source": [
    "### uniform\n",
    "Draw samples from a uniform distribution.\n",
    "\n",
    "**Parameters: (low, high, size) **\n",
    "\n",
    "A uniform distribution is one that has a constant probability. An example would be rolling a die, where each number has the same probability of being selected as any other."
   ]
  },
  {
   "cell_type": "code",
   "execution_count": 22,
   "metadata": {},
   "outputs": [
    {
     "data": {
      "image/png": "[encoded data removed]",
      "text/plain": [
       "<Figure size 432x288 with 1 Axes>"
      ]
     },
     "metadata": {},
     "output_type": "display_data"
    }
   ],
   "source": [
    "s = np.random.uniform(1, 27, (1000,6))\n",
    "pl.ylabel(\"Frequency\")\n",
    "pl.xlabel(\"Die result\")\n",
    "pl.hist(x)\n",
    "pl.show()"
   ]
  },
  {
   "cell_type": "markdown",
   "metadata": {},
   "source": [
    "# Random Generator\n",
    "\n",
    "### RandomState\n",
    "RandomState is a container for the Mersenne Twister pseudo-random number generator (PRNG). The Mersenne Twister is the most commonly used general-purpose PRNG, and is the default PRNG for software systems such as Microsoft Excel, Ruby, R and Python. RandomState also contains a number of methods that are similar to the ones explored earlier in this notebook and more in the stdlib module \"random\". However, RandomState also has the advantage that it provides a much larger number of probability distributions to choose from.\n",
    "\n",
    "Each method exposed by RandomState also takes a keyword argument size that defaults to None, besides method specific arguments. If size is None, then a single value is generated and returned. If size is an integer, then a 1-D array filled with generated values is returned. If size is a tuple, then an array with that shape is filled and returned."
   ]
  },
  {
   "cell_type": "code",
   "execution_count": 23,
   "metadata": {},
   "outputs": [
    {
     "data": {
      "text/plain": [
       "array([[0.48932698, 0.05933244, 0.36620243],\n",
       "       [0.51886544, 0.59822501, 0.43061449]])"
      ]
     },
     "execution_count": 23,
     "metadata": {},
     "output_type": "execute_result"
    }
   ],
   "source": [
    "r = np.random.RandomState(5678)\n",
    "r.rand(2,3)"
   ]
  },
  {
   "cell_type": "markdown",
   "metadata": {},
   "source": [
    "### seed\n",
    "Seed the generator.\n",
    "This method is called when RandomState is initialized. It can be called again to re-seed the generator. \n",
    "\n",
    "seed performs the same act as RandomState, as is used as an initializer for that method. The difference when using one or the other is for RandomState, you initialize a class and it calls the method as above, or you can skip the class and just use it's method instead."
   ]
  },
  {
   "cell_type": "code",
   "execution_count": 24,
   "metadata": {},
   "outputs": [
    {
     "data": {
      "text/plain": [
       "array([[0.27259261, 0.27646426, 0.80187218],\n",
       "       [0.95813935, 0.87593263, 0.35781727]])"
      ]
     },
     "execution_count": 24,
     "metadata": {},
     "output_type": "execute_result"
    }
   ],
   "source": [
    "np.random.seed(1234)\n",
    "np.random.uniform(0, 10, 5)\n",
    "np.random.rand(2,3)"
   ]
  }
 ],
 "metadata": {
  "kernelspec": {
   "display_name": "Python 3",
   "language": "python",
   "name": "python3"
  },
  "language_info": {
   "codemirror_mode": {
    "name": "ipython",
    "version": 3
   },
   "file_extension": ".py",
   "mimetype": "text/x-python",
   "name": "python",
   "nbconvert_exporter": "python",
   "pygments_lexer": "ipython3",
   "version": "3.6.5"
  }
 },
 "nbformat": 4,
 "nbformat_minor": 2
}
