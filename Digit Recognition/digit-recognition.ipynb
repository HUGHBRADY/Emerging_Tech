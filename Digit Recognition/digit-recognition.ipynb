{
 "cells": [
  {
   "cell_type": "markdown",
   "metadata": {},
   "source": [
    "# Digit Recognition\n",
    "digitrec.py is a Python script that takes an image file containing a handwritten digit and identifies the digit using a supervised learning algorithm. This will be done using the MNIST dataset to train and test the neural network. This script uses [keras](https://github.com/keras-team/keras), a high level neural network API. \n",
    "\n",
    "### Digit Dataset\n",
    "First things first, we need to open and read the MNIST dataset. This has already been covered in the [MNIST dataset notebook](https://github.com/HUGHBRADY/Emerging_Tech/blob/master/MNIST%20Dataset/mnist-dataset.ipynb) in this repository. \n",
    "\n",
    "### Keras \n",
    "We also need to set up our neural network. Keras' core data structure is a model, which is a way to organize layers. The simpliest of these models is the Sequential model so it's the perfect one to start learning with. \n",
    "\n",
    "The Sequential model is a linear stack of layers. The first layer is used to define the input shape for the other layers. "
   ]
  },
  {
   "cell_type": "code",
   "execution_count": null,
   "metadata": {},
   "outputs": [],
   "source": []
  }
 ],
 "metadata": {
  "kernelspec": {
   "display_name": "Python 3",
   "language": "python",
   "name": "python3"
  },
  "language_info": {
   "codemirror_mode": {
    "name": "ipython",
    "version": 3
   },
   "file_extension": ".py",
   "mimetype": "text/x-python",
   "name": "python",
   "nbconvert_exporter": "python",
   "pygments_lexer": "ipython3",
   "version": "3.6.5"
  }
 },
 "nbformat": 4,
 "nbformat_minor": 2
}
